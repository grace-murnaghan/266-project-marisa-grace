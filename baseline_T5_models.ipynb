{
 "cells": [
  {
   "cell_type": "code",
   "execution_count": 1,
   "metadata": {},
   "outputs": [
    {
     "name": "stderr",
     "output_type": "stream",
     "text": [
      "/opt/miniconda3/envs/env-266/lib/python3.11/site-packages/tqdm/auto.py:21: TqdmWarning: IProgress not found. Please update jupyter and ipywidgets. See https://ipywidgets.readthedocs.io/en/stable/user_install.html\n",
      "  from .autonotebook import tqdm as notebook_tqdm\n"
     ]
    }
   ],
   "source": [
    "import evaluate\n",
    "from pprint import pprint\n",
    "import pandas as pd\n",
    "from datasets import load_dataset\n",
    "# For pre-trained T5 model\n",
    "from transformers import T5Tokenizer, T5ForConditionalGeneration\n",
    "from transformers import Seq2SeqTrainingArguments, Seq2SeqTrainer\n",
    "# For BLEURT (to load a trained model for evaluation)\n",
    "from transformers import AutoModelForSequenceClassification, AutoTokenizer\n",
    "from transformers import TrainingArguments, Trainer\n",
    "from tqdm import tqdm"
   ]
  },
  {
   "cell_type": "code",
   "execution_count": 2,
   "metadata": {},
   "outputs": [],
   "source": [
    "ds = load_dataset(\"rony/climate-change-MRC\")"
   ]
  },
  {
   "cell_type": "code",
   "execution_count": 3,
   "metadata": {},
   "outputs": [],
   "source": [
    "# using code from here: https://medium.com/@ajazturki10/simplifying-language-understanding-a-beginners-guide-to-question-answering-with-t5-and-pytorch-253e0d6aac54\n",
    "def prepare_data(data):\n",
    "  articles = []\n",
    "\n",
    "  for paragraph in data:\n",
    "    context = paragraph['context']\n",
    "    for qa in paragraph['qas']:\n",
    "      question = qa['question']\n",
    "      id = qa['id']\n",
    "      for ans in qa['answers']:\n",
    "        answer = ans['text']\n",
    "        answer_start = ans['answer_start']\n",
    "        articles.append({'context': context, 'question': question, 'id': id, 'answer': answer, 'answer_start': answer_start})\n",
    "\n",
    "  return articles"
   ]
  },
  {
   "cell_type": "code",
   "execution_count": 4,
   "metadata": {},
   "outputs": [
    {
     "name": "stdout",
     "output_type": "stream",
     "text": [
      "train_df.shape=(14756, 5)\n",
      "valid_df.shape=(4229, 5)\n",
      "test_df.shape=(2096, 5)\n"
     ]
    }
   ],
   "source": [
    "# score T5 on question answering on validation & test datsets\n",
    "train_ds = ds[\"train\"] \n",
    "valid_ds = ds[\"validation\"]\n",
    "test_ds = ds[\"test\"]\n",
    "\n",
    "# each is a 1-item list, so take first index\n",
    "train_ds = train_ds[0]\n",
    "valid_ds = valid_ds[0]\n",
    "test_ds = test_ds[0]\n",
    "\n",
    "# take the 'data' key of the dict, ignoring 'version' (there's just one)\n",
    "train_ds = train_ds['data'][0]['paragraphs']\n",
    "valid_ds = valid_ds['data'][0]['paragraphs']\n",
    "test_ds = test_ds['data'][0]['paragraphs']\n",
    "# each dataset is a list of dicts, where each list item is a context paragraph ('context' key) with qas ('qas' key) which contain questions, id, and answer\n",
    "\n",
    "train_df = pd.DataFrame(prepare_data(train_ds))\n",
    "print(f\"{train_df.shape=}\")\n",
    "\n",
    "valid_df = pd.DataFrame(prepare_data(valid_ds))\n",
    "print(f\"{valid_df.shape=}\")\n",
    "\n",
    "test_df = pd.DataFrame(prepare_data(test_ds))\n",
    "print(f\"{test_df.shape=}\")"
   ]
  },
  {
   "cell_type": "code",
   "execution_count": 5,
   "metadata": {},
   "outputs": [
    {
     "name": "stderr",
     "output_type": "stream",
     "text": [
      "You are using the default legacy behaviour of the <class 'transformers.models.t5.tokenization_t5.T5Tokenizer'>. This is expected, and simply means that the `legacy` (previous) behavior will be used so nothing changes for you. If you want to use the new behaviour, set `legacy=False`. This should only be set if you understand what it means, and thoroughly read the reason why this was added as explained in https://github.com/huggingface/transformers/pull/24565\n"
     ]
    }
   ],
   "source": [
    "# Q-A on validation dataset, based on lession 7 notebook\n",
    "# load pre-train T5 model and tokenizer\n",
    "t5_pretrained_checkpoint_name = 't5-base'\n",
    "t5_tokenizer = T5Tokenizer.from_pretrained(t5_pretrained_checkpoint_name)\n",
    "t5_model = T5ForConditionalGeneration.from_pretrained(t5_pretrained_checkpoint_name)"
   ]
  },
  {
   "cell_type": "code",
   "execution_count": 7,
   "metadata": {},
   "outputs": [
    {
     "name": "stderr",
     "output_type": "stream",
     "text": [
      "100%|██████████| 4229/4229 [33:05<00:00,  2.13it/s]  \n"
     ]
    },
    {
     "data": {
      "text/html": [
       "<div>\n",
       "<style scoped>\n",
       "    .dataframe tbody tr th:only-of-type {\n",
       "        vertical-align: middle;\n",
       "    }\n",
       "\n",
       "    .dataframe tbody tr th {\n",
       "        vertical-align: top;\n",
       "    }\n",
       "\n",
       "    .dataframe thead th {\n",
       "        text-align: right;\n",
       "    }\n",
       "</style>\n",
       "<table border=\"1\" class=\"dataframe\">\n",
       "  <thead>\n",
       "    <tr style=\"text-align: right;\">\n",
       "      <th></th>\n",
       "      <th>context</th>\n",
       "      <th>question</th>\n",
       "      <th>id</th>\n",
       "      <th>answer</th>\n",
       "      <th>answer_start</th>\n",
       "      <th>t5_answer</th>\n",
       "    </tr>\n",
       "  </thead>\n",
       "  <tbody>\n",
       "    <tr>\n",
       "      <th>0</th>\n",
       "      <td>climate change has serious implications for fo...</td>\n",
       "      <td>State one of the climatic changes that can cau...</td>\n",
       "      <td>14850</td>\n",
       "      <td>changes in the ranges of agricultural pests an...</td>\n",
       "      <td>600</td>\n",
       "      <td>agricultural pests and diseases</td>\n",
       "    </tr>\n",
       "    <tr>\n",
       "      <th>1</th>\n",
       "      <td>climate change has serious implications for fo...</td>\n",
       "      <td>Mention some implication of climatic changes o...</td>\n",
       "      <td>14851</td>\n",
       "      <td>serious implications for food production, proc...</td>\n",
       "      <td>19</td>\n",
       "      <td>climate change has serious implications for fo...</td>\n",
       "    </tr>\n",
       "    <tr>\n",
       "      <th>2</th>\n",
       "      <td>the data for the research was obtained from a ...</td>\n",
       "      <td>How were the research data obtained? They were...</td>\n",
       "      <td>7397</td>\n",
       "      <td>the data for the research was obtained from a ...</td>\n",
       "      <td>0</td>\n",
       "      <td>a structured questionnaire was used to intervi...</td>\n",
       "    </tr>\n",
       "    <tr>\n",
       "      <th>3</th>\n",
       "      <td>the data for the research was obtained from a ...</td>\n",
       "      <td>The survey includes which districts include Ya...</td>\n",
       "      <td>7398</td>\n",
       "      <td>the data for the research was obtained from a ...</td>\n",
       "      <td>0</td>\n",
       "      <td>yaya gullele, hidha abote and derr</td>\n",
       "    </tr>\n",
       "    <tr>\n",
       "      <th>4</th>\n",
       "      <td>the data for the research was obtained from a ...</td>\n",
       "      <td>How were the specific study sites selected? Th...</td>\n",
       "      <td>7399</td>\n",
       "      <td>the specific study sites within the districts ...</td>\n",
       "      <td>180</td>\n",
       "      <td>a structured questionnaire was used to intervi...</td>\n",
       "    </tr>\n",
       "  </tbody>\n",
       "</table>\n",
       "</div>"
      ],
      "text/plain": [
       "                                             context  \\\n",
       "0  climate change has serious implications for fo...   \n",
       "1  climate change has serious implications for fo...   \n",
       "2  the data for the research was obtained from a ...   \n",
       "3  the data for the research was obtained from a ...   \n",
       "4  the data for the research was obtained from a ...   \n",
       "\n",
       "                                            question     id  \\\n",
       "0  State one of the climatic changes that can cau...  14850   \n",
       "1  Mention some implication of climatic changes o...  14851   \n",
       "2  How were the research data obtained? They were...   7397   \n",
       "3  The survey includes which districts include Ya...   7398   \n",
       "4  How were the specific study sites selected? Th...   7399   \n",
       "\n",
       "                                              answer  answer_start  \\\n",
       "0  changes in the ranges of agricultural pests an...           600   \n",
       "1  serious implications for food production, proc...            19   \n",
       "2  the data for the research was obtained from a ...             0   \n",
       "3  the data for the research was obtained from a ...             0   \n",
       "4  the specific study sites within the districts ...           180   \n",
       "\n",
       "                                           t5_answer  \n",
       "0                    agricultural pests and diseases  \n",
       "1  climate change has serious implications for fo...  \n",
       "2  a structured questionnaire was used to intervi...  \n",
       "3                 yaya gullele, hidha abote and derr  \n",
       "4  a structured questionnaire was used to intervi...  "
      ]
     },
     "execution_count": 7,
     "metadata": {},
     "output_type": "execute_result"
    }
   ],
   "source": [
    "# iterate through df to generate answers\n",
    "for i in tqdm(valid_df.index):\n",
    "  t5_context_text = valid_df['context'][i]\n",
    "  t5_question_text = valid_df['question'][i]\n",
    "  t5_input_text = f\"question: {t5_question_text}  context: {t5_context_text}\"\n",
    "  t5_inputs = t5_tokenizer(t5_input_text, return_tensors=\"pt\")\n",
    "  t5_output_ids = t5_model.generate(t5_inputs['input_ids'])\n",
    "  t5_answer = t5_tokenizer.decode(t5_output_ids[0], skip_special_tokens=True, clean_up_tokenization_spaces=False)\n",
    "  valid_df.at[i, 't5_answer'] = t5_answer\n",
    "\n",
    "valid_df.to_parquet('valid_t5_scored.parquet')\n",
    "valid_df.head()"
   ]
  },
  {
   "cell_type": "code",
   "execution_count": 27,
   "metadata": {},
   "outputs": [
    {
     "name": "stdout",
     "output_type": "stream",
     "text": [
      "validation \n",
      " {'rouge1': np.float64(0.4084927674774943), 'rouge2': np.float64(0.34976700873214095), 'rougeL': np.float64(0.4072946749416937), 'rougeLsum': np.float64(0.40720359686847407)}\n"
     ]
    }
   ],
   "source": [
    "# read in T5 answers\n",
    "valid_df = pd.read_parquet('valid_t5_scored.parquet')\n",
    "# evaluate T5 answers\n",
    "rouge = evaluate.load('rouge')\n",
    "predictions = valid_df['t5_answer'].tolist()\n",
    "references = valid_df['answer'].tolist()\n",
    "results = rouge.compute(predictions=predictions,\n",
    "                       references=references)\n",
    "print('validation \\n',results)"
   ]
  },
  {
   "cell_type": "code",
   "execution_count": 28,
   "metadata": {},
   "outputs": [
    {
     "data": {
      "text/plain": [
       "array([['State one of the climatic changes that can cause loss of crop.',\n",
       "        'changes in the ranges of agricultural pests and diseases with warming winters, and infestations',\n",
       "        'agricultural pests and diseases'],\n",
       "       ['Mention some implication of climatic changes on agriculture',\n",
       "        'serious implications for food production, processing, and distribution',\n",
       "        'climate change has serious implications for food production, processing, and distribution'],\n",
       "       ['How were the research data obtained? They were obtained from a survey of 452 agricultural households in three districts of the Zone in 2011/2012',\n",
       "        'the data for the research was obtained from a survey of 452 farm households in three districts of the zone in 2011/2012',\n",
       "        'a structured questionnaire was used to interview the farmers'],\n",
       "       ['The survey includes which districts include Yaya Gullele, Hidha Abote and Derra',\n",
       "        'the data for the research was obtained from a survey of 452 farm households in three districts of the zone in 2011/2012. the districts include yaya gullele, hidha abote and derra',\n",
       "        'yaya gullele, hidha abote and derr'],\n",
       "       ['How were the specific study sites selected? They were selected based on a multi-stage random sampling procedure',\n",
       "        'the specific study sites within the districts were selected based on a multi stage random sampling procedure',\n",
       "        'a structured questionnaire was used to interview the farmers'],\n",
       "       ['What are the two stages in analysis ?',\n",
       "        'we obtained location-specific estimates of temperature- mortality associations from a two-stage time series analysis, as previously described.16 briefly, in the first stage, we performed a quasi-poisson regression separately in each location, controlling for season, long-term trends, and day of the week. we modelled the non-linear and delayed exposure-lag-response relationship between temperature and mortality with a distributed lag non-linear model, applying a bidimensional cross-basis spline function with 21 days of lag',\n",
       "        'first stage, we performed a quasi-poisson regression separately in each location, controlling for'],\n",
       "       ['How does  temperature and mortality related to ?',\n",
       "        'e modelled the non-linear and delayed exposure-lag-response relationship between temperature and mortality with a distributed lag non-linear model, applying a bidimensional cross-basis spline function with 21 days of lag',\n",
       "        'exposure-lag-response'],\n",
       "       ['What are the of meta-predictors to capture part of the heterogeneity across locations ?',\n",
       "        'n the second stage, we pooled the reduced estimates of the overall cumulative exposure-response curves using a multivariate meta-regression.20 we included a set of meta-predictors to capture part of the heterogeneity across locations: specifically indicators for region, indicators for climate classification,21 country-level gross domestic product per capita, and location-specific average and range of temperature. we then derived the best linear unbiased prediction of the overall cumulative exposure-response association in each location, expressed as relative risk',\n",
       "        'indicators for region, indicators for climate classification,21 country-level gross domestic product per capita, and'],\n",
       "       ['What is shown in the table in Figure 5?',\n",
       "        'the table in figure 5 shows that, as in our first two policy options, the regional variation for an average household is quite small',\n",
       "        'regional variation for an average household is quite small'],\n",
       "       ['What is the national average loss for households in the bottom two deciles?',\n",
       "        'the national average loss for households in the bottom two deciles is $342 per year, or 3.35 percent of income',\n",
       "        '$342 per year, or 3.35 percent of income']], dtype=object)"
      ]
     },
     "execution_count": 28,
     "metadata": {},
     "output_type": "execute_result"
    }
   ],
   "source": [
    "valid_df[['question', 'answer', 't5_answer']].iloc[:10].values"
   ]
  },
  {
   "cell_type": "code",
   "execution_count": 10,
   "metadata": {},
   "outputs": [
    {
     "name": "stderr",
     "output_type": "stream",
     "text": [
      "100%|██████████| 2096/2096 [16:26<00:00,  2.13it/s]\n"
     ]
    },
    {
     "data": {
      "text/html": [
       "<div>\n",
       "<style scoped>\n",
       "    .dataframe tbody tr th:only-of-type {\n",
       "        vertical-align: middle;\n",
       "    }\n",
       "\n",
       "    .dataframe tbody tr th {\n",
       "        vertical-align: top;\n",
       "    }\n",
       "\n",
       "    .dataframe thead th {\n",
       "        text-align: right;\n",
       "    }\n",
       "</style>\n",
       "<table border=\"1\" class=\"dataframe\">\n",
       "  <thead>\n",
       "    <tr style=\"text-align: right;\">\n",
       "      <th></th>\n",
       "      <th>context</th>\n",
       "      <th>question</th>\n",
       "      <th>id</th>\n",
       "      <th>answer</th>\n",
       "      <th>answer_start</th>\n",
       "      <th>t5_answer</th>\n",
       "    </tr>\n",
       "  </thead>\n",
       "  <tbody>\n",
       "    <tr>\n",
       "      <th>0</th>\n",
       "      <td>some more detailed work has been done at natio...</td>\n",
       "      <td>The 9 percent reduction of rice in Bangladesh ...</td>\n",
       "      <td>14095</td>\n",
       "      <td>flooding damage and climate variability</td>\n",
       "      <td>514</td>\n",
       "      <td>flooding damage and climate variability</td>\n",
       "    </tr>\n",
       "    <tr>\n",
       "      <th>1</th>\n",
       "      <td>some more detailed work has been done at natio...</td>\n",
       "      <td>What kind of model of Bangladesh was had been ...</td>\n",
       "      <td>14096</td>\n",
       "      <td>a dynamic economywide model</td>\n",
       "      <td>70</td>\n",
       "      <td>a dynamic economywide model</td>\n",
       "    </tr>\n",
       "    <tr>\n",
       "      <th>2</th>\n",
       "      <td>some more detailed work has been done at natio...</td>\n",
       "      <td>What approach did Ahmed use to estimate how ch...</td>\n",
       "      <td>14097</td>\n",
       "      <td>a modelling approach</td>\n",
       "      <td>639</td>\n",
       "      <td>a modelling approach</td>\n",
       "    </tr>\n",
       "    <tr>\n",
       "      <th>3</th>\n",
       "      <td>extreme sea level height fluctuations are also...</td>\n",
       "      <td>Where  height fluctuations are large?</td>\n",
       "      <td>2843</td>\n",
       "      <td>extreme sea level height fluctuations are also...</td>\n",
       "      <td>0</td>\n",
       "      <td>north</td>\n",
       "    </tr>\n",
       "    <tr>\n",
       "      <th>4</th>\n",
       "      <td>extreme sea level height fluctuations are also...</td>\n",
       "      <td>How  non-tide sea levels are obtained?</td>\n",
       "      <td>2844</td>\n",
       "      <td>the non-tide sea levels are obtained by spectr...</td>\n",
       "      <td>167</td>\n",
       "      <td>by spectrally removing the tidal energy from t...</td>\n",
       "    </tr>\n",
       "  </tbody>\n",
       "</table>\n",
       "</div>"
      ],
      "text/plain": [
       "                                             context  \\\n",
       "0  some more detailed work has been done at natio...   \n",
       "1  some more detailed work has been done at natio...   \n",
       "2  some more detailed work has been done at natio...   \n",
       "3  extreme sea level height fluctuations are also...   \n",
       "4  extreme sea level height fluctuations are also...   \n",
       "\n",
       "                                            question     id  \\\n",
       "0  The 9 percent reduction of rice in Bangladesh ...  14095   \n",
       "1  What kind of model of Bangladesh was had been ...  14096   \n",
       "2  What approach did Ahmed use to estimate how ch...  14097   \n",
       "3              Where  height fluctuations are large?   2843   \n",
       "4             How  non-tide sea levels are obtained?   2844   \n",
       "\n",
       "                                              answer  answer_start  \\\n",
       "0            flooding damage and climate variability           514   \n",
       "1                        a dynamic economywide model            70   \n",
       "2                               a modelling approach           639   \n",
       "3  extreme sea level height fluctuations are also...             0   \n",
       "4  the non-tide sea levels are obtained by spectr...           167   \n",
       "\n",
       "                                           t5_answer  \n",
       "0            flooding damage and climate variability  \n",
       "1                        a dynamic economywide model  \n",
       "2                               a modelling approach  \n",
       "3                                              north  \n",
       "4  by spectrally removing the tidal energy from t...  "
      ]
     },
     "execution_count": 10,
     "metadata": {},
     "output_type": "execute_result"
    }
   ],
   "source": [
    "# iterate through df to generate answers\n",
    "for i in tqdm(test_df.index):\n",
    "  t5_context_text = test_df['context'][i]\n",
    "  t5_question_text = test_df['question'][i]\n",
    "  t5_input_text = f\"question: {t5_question_text}  context: {t5_context_text}\"\n",
    "  t5_inputs = t5_tokenizer(t5_input_text, return_tensors=\"pt\")\n",
    "  t5_output_ids = t5_model.generate(t5_inputs['input_ids'])\n",
    "  t5_answer = t5_tokenizer.decode(t5_output_ids[0], skip_special_tokens=True, clean_up_tokenization_spaces=False)\n",
    "  test_df.at[i, 't5_answer'] = t5_answer\n",
    "\n",
    "test_df.to_parquet('test_t5_scored.parquet')\n",
    "test_df.head()"
   ]
  },
  {
   "cell_type": "code",
   "execution_count": 11,
   "metadata": {},
   "outputs": [
    {
     "name": "stdout",
     "output_type": "stream",
     "text": [
      "test \n",
      " {'rouge1': np.float64(0.39672176718702445), 'rouge2': np.float64(0.33876990052166034), 'rougeL': np.float64(0.39510367531089474), 'rougeLsum': np.float64(0.3951709002434744)}\n"
     ]
    }
   ],
   "source": [
    "test_df = pd.read_parquet('test_t5_scored.parquet')\n",
    "rouge = evaluate.load('rouge')\n",
    "predictions = test_df['t5_answer'].tolist()\n",
    "references = test_df['answer'].tolist()\n",
    "results = rouge.compute(predictions=predictions,\n",
    "                        references=references)\n",
    "print('test \\n', results)"
   ]
  },
  {
   "cell_type": "code",
   "execution_count": 16,
   "metadata": {},
   "outputs": [],
   "source": [
    "# Try flan-t5-base\n",
    "t5_pretrained_checkpoint_name = 'google/flan-t5-base'\n",
    "t5_tokenizer = T5Tokenizer.from_pretrained(t5_pretrained_checkpoint_name)\n",
    "t5_model = T5ForConditionalGeneration.from_pretrained(t5_pretrained_checkpoint_name)"
   ]
  },
  {
   "cell_type": "code",
   "execution_count": 17,
   "metadata": {},
   "outputs": [
    {
     "name": "stderr",
     "output_type": "stream",
     "text": [
      "  0%|          | 17/4229 [00:08<28:43,  2.44it/s] Token indices sequence length is longer than the specified maximum sequence length for this model (527 > 512). Running this sequence through the model will result in indexing errors\n",
      "100%|██████████| 4229/4229 [43:50<00:00,  1.61it/s]    \n"
     ]
    },
    {
     "data": {
      "text/html": [
       "<div>\n",
       "<style scoped>\n",
       "    .dataframe tbody tr th:only-of-type {\n",
       "        vertical-align: middle;\n",
       "    }\n",
       "\n",
       "    .dataframe tbody tr th {\n",
       "        vertical-align: top;\n",
       "    }\n",
       "\n",
       "    .dataframe thead th {\n",
       "        text-align: right;\n",
       "    }\n",
       "</style>\n",
       "<table border=\"1\" class=\"dataframe\">\n",
       "  <thead>\n",
       "    <tr style=\"text-align: right;\">\n",
       "      <th></th>\n",
       "      <th>context</th>\n",
       "      <th>question</th>\n",
       "      <th>id</th>\n",
       "      <th>answer</th>\n",
       "      <th>answer_start</th>\n",
       "      <th>t5_answer</th>\n",
       "    </tr>\n",
       "  </thead>\n",
       "  <tbody>\n",
       "    <tr>\n",
       "      <th>0</th>\n",
       "      <td>climate change has serious implications for fo...</td>\n",
       "      <td>State one of the climatic changes that can cau...</td>\n",
       "      <td>14850</td>\n",
       "      <td>changes in the ranges of agricultural pests an...</td>\n",
       "      <td>600</td>\n",
       "      <td>changes in the ranges of agricultural pests an...</td>\n",
       "    </tr>\n",
       "    <tr>\n",
       "      <th>1</th>\n",
       "      <td>climate change has serious implications for fo...</td>\n",
       "      <td>Mention some implication of climatic changes o...</td>\n",
       "      <td>14851</td>\n",
       "      <td>serious implications for food production, proc...</td>\n",
       "      <td>19</td>\n",
       "      <td>climate change has serious implications for fo...</td>\n",
       "    </tr>\n",
       "    <tr>\n",
       "      <th>2</th>\n",
       "      <td>the data for the research was obtained from a ...</td>\n",
       "      <td>How were the research data obtained? They were...</td>\n",
       "      <td>7397</td>\n",
       "      <td>the data for the research was obtained from a ...</td>\n",
       "      <td>0</td>\n",
       "      <td>survey of 452 farm households in three distric...</td>\n",
       "    </tr>\n",
       "    <tr>\n",
       "      <th>3</th>\n",
       "      <td>the data for the research was obtained from a ...</td>\n",
       "      <td>The survey includes which districts include Ya...</td>\n",
       "      <td>7398</td>\n",
       "      <td>the data for the research was obtained from a ...</td>\n",
       "      <td>0</td>\n",
       "      <td>Context: The survey was conducted in three dis...</td>\n",
       "    </tr>\n",
       "    <tr>\n",
       "      <th>4</th>\n",
       "      <td>the data for the research was obtained from a ...</td>\n",
       "      <td>How were the specific study sites selected? Th...</td>\n",
       "      <td>7399</td>\n",
       "      <td>the specific study sites within the districts ...</td>\n",
       "      <td>180</td>\n",
       "      <td>multi stage random sampling procedure</td>\n",
       "    </tr>\n",
       "  </tbody>\n",
       "</table>\n",
       "</div>"
      ],
      "text/plain": [
       "                                             context  \\\n",
       "0  climate change has serious implications for fo...   \n",
       "1  climate change has serious implications for fo...   \n",
       "2  the data for the research was obtained from a ...   \n",
       "3  the data for the research was obtained from a ...   \n",
       "4  the data for the research was obtained from a ...   \n",
       "\n",
       "                                            question     id  \\\n",
       "0  State one of the climatic changes that can cau...  14850   \n",
       "1  Mention some implication of climatic changes o...  14851   \n",
       "2  How were the research data obtained? They were...   7397   \n",
       "3  The survey includes which districts include Ya...   7398   \n",
       "4  How were the specific study sites selected? Th...   7399   \n",
       "\n",
       "                                              answer  answer_start  \\\n",
       "0  changes in the ranges of agricultural pests an...           600   \n",
       "1  serious implications for food production, proc...            19   \n",
       "2  the data for the research was obtained from a ...             0   \n",
       "3  the data for the research was obtained from a ...             0   \n",
       "4  the specific study sites within the districts ...           180   \n",
       "\n",
       "                                           t5_answer  \n",
       "0  changes in the ranges of agricultural pests an...  \n",
       "1  climate change has serious implications for fo...  \n",
       "2  survey of 452 farm households in three distric...  \n",
       "3  Context: The survey was conducted in three dis...  \n",
       "4              multi stage random sampling procedure  "
      ]
     },
     "execution_count": 17,
     "metadata": {},
     "output_type": "execute_result"
    }
   ],
   "source": [
    "# iterate through df to generate answers\n",
    "for i in tqdm(valid_df.index):\n",
    "  t5_context_text = valid_df['context'][i]\n",
    "  t5_question_text = valid_df['question'][i]\n",
    "  t5_input_text = f\"question: {t5_question_text}  context: {t5_context_text}\"\n",
    "  t5_inputs = t5_tokenizer(t5_input_text, return_tensors=\"pt\")\n",
    "  t5_output_ids = t5_model.generate(t5_inputs['input_ids'])\n",
    "  t5_answer = t5_tokenizer.decode(t5_output_ids[0], skip_special_tokens=True, clean_up_tokenization_spaces=False)\n",
    "  valid_df.at[i, 't5_answer'] = t5_answer\n",
    "\n",
    "valid_df.to_parquet('valid_flan_t5_scored.parquet')\n",
    "valid_df.head()"
   ]
  },
  {
   "cell_type": "code",
   "execution_count": 23,
   "metadata": {},
   "outputs": [
    {
     "name": "stdout",
     "output_type": "stream",
     "text": [
      "validation \n",
      " {'rouge1': np.float64(0.36320783091195874), 'rouge2': np.float64(0.30025145884949067), 'rougeL': np.float64(0.36059780296581617), 'rougeLsum': np.float64(0.3606392869181443)}\n"
     ]
    }
   ],
   "source": [
    "# read in T5 answers\n",
    "valid_df = pd.read_parquet('valid_flan_t5_scored.parquet')\n",
    "# evaluate T5 answers\n",
    "rouge = evaluate.load('rouge')\n",
    "predictions = valid_df['t5_answer'].tolist()\n",
    "references = valid_df['answer'].tolist()\n",
    "results = rouge.compute(predictions=predictions,\n",
    "                       references=references)\n",
    "print('validation \\n',results)"
   ]
  },
  {
   "cell_type": "code",
   "execution_count": 22,
   "metadata": {},
   "outputs": [
    {
     "data": {
      "text/plain": [
       "array([['changes in the ranges of agricultural pests and diseases with warming winters, and infestations',\n",
       "        'changes in the ranges of agricultural pests and diseases with warming winters'],\n",
       "       ['serious implications for food production, processing, and distribution',\n",
       "        'climate change has serious implications for food production, processing, and distribution'],\n",
       "       ['the data for the research was obtained from a survey of 452 farm households in three districts of the zone in 2011/2012',\n",
       "        'survey of 452 farm households in three districts of the zone in 2011/2012'],\n",
       "       ['the data for the research was obtained from a survey of 452 farm households in three districts of the zone in 2011/2012. the districts include yaya gullele, hidha abote and derra',\n",
       "        'Context: The survey was conducted in three districts of the zone in 2011/2012. The survey'],\n",
       "       ['the specific study sites within the districts were selected based on a multi stage random sampling procedure',\n",
       "        'multi stage random sampling procedure'],\n",
       "       ['we obtained location-specific estimates of temperature- mortality associations from a two-stage time series analysis, as previously described.16 briefly, in the first stage, we performed a quasi-poisson regression separately in each location, controlling for season, long-term trends, and day of the week. we modelled the non-linear and delayed exposure-lag-response relationship between temperature and mortality with a distributed lag non-linear model, applying a bidimensional cross-basis spline function with 21 days of lag',\n",
       "        'time series analysis'],\n",
       "       ['e modelled the non-linear and delayed exposure-lag-response relationship between temperature and mortality with a distributed lag non-linear model, applying a bidimensional cross-basis spline function with 21 days of lag',\n",
       "        'location-specific estimates of temperature- mortality associations'],\n",
       "       ['n the second stage, we pooled the reduced estimates of the overall cumulative exposure-response curves using a multivariate meta-regression.20 we included a set of meta-predictors to capture part of the heterogeneity across locations: specifically indicators for region, indicators for climate classification,21 country-level gross domestic product per capita, and location-specific average and range of temperature. we then derived the best linear unbiased prediction of the overall cumulative exposure-response association in each location, expressed as relative risk',\n",
       "        'indicators for region, indicators for climate classification,21 country-level gross domestic product per capita, and'],\n",
       "       ['the table in figure 5 shows that, as in our first two policy options, the regional variation for an average household is quite small',\n",
       "        'regional variation for an average household is quite small'],\n",
       "       ['the national average loss for households in the bottom two deciles is $342 per year, or 3.35 percent of income',\n",
       "        '$342']], dtype=object)"
      ]
     },
     "execution_count": 22,
     "metadata": {},
     "output_type": "execute_result"
    }
   ],
   "source": [
    "valid_df[['answer', 't5_answer']].iloc[:10].values"
   ]
  }
 ],
 "metadata": {
  "kernelspec": {
   "display_name": "env-266",
   "language": "python",
   "name": "python3"
  },
  "language_info": {
   "codemirror_mode": {
    "name": "ipython",
    "version": 3
   },
   "file_extension": ".py",
   "mimetype": "text/x-python",
   "name": "python",
   "nbconvert_exporter": "python",
   "pygments_lexer": "ipython3",
   "version": "3.11.11"
  }
 },
 "nbformat": 4,
 "nbformat_minor": 2
}
