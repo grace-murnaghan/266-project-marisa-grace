{
 "cells": [
  {
   "cell_type": "code",
   "execution_count": 1,
   "metadata": {},
   "outputs": [
    {
     "name": "stderr",
     "output_type": "stream",
     "text": [
      "/opt/miniconda3/envs/env-266/lib/python3.11/site-packages/tqdm/auto.py:21: TqdmWarning: IProgress not found. Please update jupyter and ipywidgets. See https://ipywidgets.readthedocs.io/en/stable/user_install.html\n",
      "  from .autonotebook import tqdm as notebook_tqdm\n"
     ]
    }
   ],
   "source": [
    "import evaluate\n",
    "from pprint import pprint\n",
    "import pandas as pd\n",
    "from datasets import load_dataset\n",
    "from tqdm import tqdm\n",
    "from sentence_transformers import SentenceTransformer, util\n",
    "import torch\n",
    "from transformers import AutoTokenizer, AutoModelForQuestionAnswering, BartForQuestionAnswering\n",
    "import project_utility as utils"
   ]
  },
  {
   "cell_type": "code",
   "execution_count": 2,
   "metadata": {},
   "outputs": [
    {
     "name": "stdout",
     "output_type": "stream",
     "text": [
      "train_df.shape=(14756, 5)\n",
      "valid_df.shape=(4229, 5)\n",
      "test_df.shape=(2096, 5)\n"
     ]
    }
   ],
   "source": [
    "train_df, val_df, test_df = utils.load_data()"
   ]
  },
  {
   "cell_type": "code",
   "execution_count": 3,
   "metadata": {},
   "outputs": [
    {
     "name": "stderr",
     "output_type": "stream",
     "text": [
      "Some weights of BartForQuestionAnswering were not initialized from the model checkpoint at facebook/bart-large and are newly initialized: ['qa_outputs.bias', 'qa_outputs.weight']\n",
      "You should probably TRAIN this model on a down-stream task to be able to use it for predictions and inference.\n"
     ]
    }
   ],
   "source": [
    "pretrained_checkpoint_name = 'facebook/bart-large' # should this be bart-large to match climatebart?\n",
    "tokenizer = AutoTokenizer.from_pretrained(pretrained_checkpoint_name)\n",
    "model = AutoModelForQuestionAnswering.from_pretrained(pretrained_checkpoint_name)\n",
    "# looks like Bart for QA comes with QA head but is untrained, need to train to use for inference"
   ]
  },
  {
   "cell_type": "code",
   "execution_count": 5,
   "metadata": {},
   "outputs": [
    {
     "name": "stderr",
     "output_type": "stream",
     "text": [
      "You passed along `num_labels=3` with an incompatible id to label map: {'0': 'LABEL_0', '1': 'LABEL_1'}. The number of labels wil be overwritten to 2.\n",
      "You passed along `num_labels=3` with an incompatible id to label map: {'0': 'LABEL_0', '1': 'LABEL_1'}. The number of labels wil be overwritten to 2.\n",
      "You passed along `num_labels=3` with an incompatible id to label map: {'0': 'LABEL_0', '1': 'LABEL_1'}. The number of labels wil be overwritten to 2.\n",
      "You passed along `num_labels=3` with an incompatible id to label map: {'0': 'LABEL_0', '1': 'LABEL_1'}. The number of labels wil be overwritten to 2.\n"
     ]
    },
    {
     "name": "stdout",
     "output_type": "stream",
     "text": [
      " nice puppet\n"
     ]
    },
    {
     "data": {
      "text/plain": [
       "0.59"
      ]
     },
     "execution_count": 5,
     "metadata": {},
     "output_type": "execute_result"
    }
   ],
   "source": [
    "# example that works out of the box: https://huggingface.co/docs/transformers/en/model_doc/bart#transformers.BartForQuestionAnswering.forward.example\n",
    "\n",
    "tokenizer = AutoTokenizer.from_pretrained(\"valhalla/bart-large-finetuned-squadv1\")\n",
    "model = BartForQuestionAnswering.from_pretrained(\"valhalla/bart-large-finetuned-squadv1\")\n",
    "\n",
    "question, text = \"Who was Jim Henson?\", \"Jim Henson was a nice puppet\"\n",
    "\n",
    "inputs = tokenizer(question, text, return_tensors=\"pt\")\n",
    "with torch.no_grad():\n",
    "    outputs = model(**inputs)\n",
    "\n",
    "answer_start_index = outputs.start_logits.argmax()\n",
    "answer_end_index = outputs.end_logits.argmax()\n",
    "\n",
    "predict_answer_tokens = inputs.input_ids[0, answer_start_index : answer_end_index + 1]\n",
    "print(tokenizer.decode(predict_answer_tokens, skip_special_tokens=True))\n",
    "\n",
    "# target is \"nice puppet\"\n",
    "target_start_index = torch.tensor([14])\n",
    "target_end_index = torch.tensor([15])\n",
    "\n",
    "outputs = model(**inputs, start_positions=target_start_index, end_positions=target_end_index)\n",
    "loss = outputs.loss\n",
    "round(loss.item(), 2)"
   ]
  },
  {
   "cell_type": "code",
   "execution_count": 6,
   "metadata": {},
   "outputs": [
    {
     "name": "stderr",
     "output_type": "stream",
     "text": [
      "You passed along `num_labels=3` with an incompatible id to label map: {'0': 'LABEL_0', '1': 'LABEL_1'}. The number of labels wil be overwritten to 2.\n",
      "You passed along `num_labels=3` with an incompatible id to label map: {'0': 'LABEL_0', '1': 'LABEL_1'}. The number of labels wil be overwritten to 2.\n",
      "You passed along `num_labels=3` with an incompatible id to label map: {'0': 'LABEL_0', '1': 'LABEL_1'}. The number of labels wil be overwritten to 2.\n",
      "You passed along `num_labels=3` with an incompatible id to label map: {'0': 'LABEL_0', '1': 'LABEL_1'}. The number of labels wil be overwritten to 2.\n"
     ]
    }
   ],
   "source": [
    "tokenizer = AutoTokenizer.from_pretrained(\"valhalla/bart-large-finetuned-squadv1\")\n",
    "model = BartForQuestionAnswering.from_pretrained(\"valhalla/bart-large-finetuned-squadv1\")"
   ]
  },
  {
   "cell_type": "code",
   "execution_count": 7,
   "metadata": {},
   "outputs": [
    {
     "name": "stderr",
     "output_type": "stream",
     "text": [
      "100%|██████████| 2096/2096 [17:02<00:00,  2.05it/s]\n"
     ]
    },
    {
     "data": {
      "text/html": [
       "<div>\n",
       "<style scoped>\n",
       "    .dataframe tbody tr th:only-of-type {\n",
       "        vertical-align: middle;\n",
       "    }\n",
       "\n",
       "    .dataframe tbody tr th {\n",
       "        vertical-align: top;\n",
       "    }\n",
       "\n",
       "    .dataframe thead th {\n",
       "        text-align: right;\n",
       "    }\n",
       "</style>\n",
       "<table border=\"1\" class=\"dataframe\">\n",
       "  <thead>\n",
       "    <tr style=\"text-align: right;\">\n",
       "      <th></th>\n",
       "      <th>context</th>\n",
       "      <th>question</th>\n",
       "      <th>id</th>\n",
       "      <th>answer</th>\n",
       "      <th>answer_start</th>\n",
       "      <th>bart_answer</th>\n",
       "    </tr>\n",
       "  </thead>\n",
       "  <tbody>\n",
       "    <tr>\n",
       "      <th>0</th>\n",
       "      <td>some more detailed work has been done at natio...</td>\n",
       "      <td>The 9 percent reduction of rice in Bangladesh ...</td>\n",
       "      <td>14095</td>\n",
       "      <td>flooding damage and climate variability</td>\n",
       "      <td>514</td>\n",
       "      <td>flooding damage and climate variability</td>\n",
       "    </tr>\n",
       "    <tr>\n",
       "      <th>1</th>\n",
       "      <td>some more detailed work has been done at natio...</td>\n",
       "      <td>What kind of model of Bangladesh was had been ...</td>\n",
       "      <td>14096</td>\n",
       "      <td>a dynamic economywide model</td>\n",
       "      <td>70</td>\n",
       "      <td>dynamic economywide</td>\n",
       "    </tr>\n",
       "    <tr>\n",
       "      <th>2</th>\n",
       "      <td>some more detailed work has been done at natio...</td>\n",
       "      <td>What approach did Ahmed use to estimate how ch...</td>\n",
       "      <td>14097</td>\n",
       "      <td>a modelling approach</td>\n",
       "      <td>639</td>\n",
       "      <td>modelling approach</td>\n",
       "    </tr>\n",
       "    <tr>\n",
       "      <th>3</th>\n",
       "      <td>extreme sea level height fluctuations are also...</td>\n",
       "      <td>Where  height fluctuations are large?</td>\n",
       "      <td>2843</td>\n",
       "      <td>extreme sea level height fluctuations are also...</td>\n",
       "      <td>0</td>\n",
       "      <td>to the north</td>\n",
       "    </tr>\n",
       "    <tr>\n",
       "      <th>4</th>\n",
       "      <td>extreme sea level height fluctuations are also...</td>\n",
       "      <td>How  non-tide sea levels are obtained?</td>\n",
       "      <td>2844</td>\n",
       "      <td>the non-tide sea levels are obtained by spectr...</td>\n",
       "      <td>167</td>\n",
       "      <td>by spectrally removing the tidal energy from ...</td>\n",
       "    </tr>\n",
       "  </tbody>\n",
       "</table>\n",
       "</div>"
      ],
      "text/plain": [
       "                                             context  \\\n",
       "0  some more detailed work has been done at natio...   \n",
       "1  some more detailed work has been done at natio...   \n",
       "2  some more detailed work has been done at natio...   \n",
       "3  extreme sea level height fluctuations are also...   \n",
       "4  extreme sea level height fluctuations are also...   \n",
       "\n",
       "                                            question     id  \\\n",
       "0  The 9 percent reduction of rice in Bangladesh ...  14095   \n",
       "1  What kind of model of Bangladesh was had been ...  14096   \n",
       "2  What approach did Ahmed use to estimate how ch...  14097   \n",
       "3              Where  height fluctuations are large?   2843   \n",
       "4             How  non-tide sea levels are obtained?   2844   \n",
       "\n",
       "                                              answer  answer_start  \\\n",
       "0            flooding damage and climate variability           514   \n",
       "1                        a dynamic economywide model            70   \n",
       "2                               a modelling approach           639   \n",
       "3  extreme sea level height fluctuations are also...             0   \n",
       "4  the non-tide sea levels are obtained by spectr...           167   \n",
       "\n",
       "                                         bart_answer  \n",
       "0            flooding damage and climate variability  \n",
       "1                                dynamic economywide  \n",
       "2                                 modelling approach  \n",
       "3                                       to the north  \n",
       "4   by spectrally removing the tidal energy from ...  "
      ]
     },
     "execution_count": 7,
     "metadata": {},
     "output_type": "execute_result"
    }
   ],
   "source": [
    "# iterate through test to get answer spans\n",
    "for i in tqdm(test_df.index):\n",
    "    question = test_df['question'][i]\n",
    "    text = test_df['context'][i]\n",
    "    \n",
    "    inputs = tokenizer(question, text, return_tensors=\"pt\")\n",
    "    with torch.no_grad():\n",
    "        outputs = model(**inputs)\n",
    "    \n",
    "    answer_start_index = outputs.start_logits.argmax()\n",
    "    answer_end_index = outputs.end_logits.argmax()\n",
    "\n",
    "    predict_answer_tokens = inputs.input_ids[0, answer_start_index : answer_end_index + 1]\n",
    "    answer_decoded = tokenizer.decode(predict_answer_tokens, skip_special_tokens=True)\n",
    "    test_df.at[i, 'bart_answer'] = answer_decoded\n",
    "test_df.head()"
   ]
  },
  {
   "cell_type": "code",
   "execution_count": 14,
   "metadata": {},
   "outputs": [
    {
     "name": "stdout",
     "output_type": "stream",
     "text": [
      "('question: The 9 percent reduction of rice in Bangladesh is attributed to '\n",
      " 'what two variables?')\n",
      "'label answer: flooding damage and climate variability'\n",
      "'BART answer:  flooding damage and climate variability'\n",
      "\n",
      "('question: What kind of model of Bangladesh was had been used to estimate '\n",
      " 'economic damages from historical climate variability and future '\n",
      " 'anthropogenic climate change?')\n",
      "'label answer: a dynamic economywide model'\n",
      "'BART answer:  dynamic economywide'\n",
      "\n",
      "('question: What approach did Ahmed use to estimate how changes in climate '\n",
      " 'variability might affect crop yields and poverty rates in Tanzania to the '\n",
      " 'early 2030s')\n",
      "'label answer: a modelling approach'\n",
      "'BART answer:  modelling approach'\n",
      "\n",
      "'question: Where  height fluctuations are large?'\n",
      "('label answer: extreme sea level height fluctuations are also larger to the '\n",
      " 'north, as a result of increasing storm intensities at the more northerly '\n",
      " 'coastal locations')\n",
      "'BART answer:  to the north'\n",
      "\n",
      "'question: How  non-tide sea levels are obtained?'\n",
      "('label answer: the non-tide sea levels are obtained by spectrally removing '\n",
      " 'the tidal energy from the hourly tide gauge records (bromirski et al. 2003 ')\n",
      "('BART answer:  by spectrally removing the tidal energy from the hourly tide '\n",
      " 'gauge records')\n",
      "\n",
      "('question: Where the co-occurrences of extreme waves and extreme sea level '\n",
      " 'heights are illustrated?')\n",
      "('label answer: the probabilities of the potentially important co-occurrences '\n",
      " \"of extreme waves and extreme sea level heights are illustrated for peak hs ' \"\n",
      " 's at noaa buoys near san francisco in fig. 9 the probability distribution in '\n",
      " 'fig. 9 shows the historical (1981 - present')\n",
      "'BART answer:  noaa buoys near san francisco'\n",
      "\n",
      "('question: Plant fossils from several sites in Wyoming, North America, '\n",
      " 'indicate what?')\n",
      "('label answer: 10,000-year interval at the paleocene-eocene boundary a '\n",
      " 'northern extension of floral ranges of ~ 450-2,200 km occurred')\n",
      "'BART answer:  a northern extension of floral ranges of ~ 450-2,200 km occurred'\n",
      "\n",
      "('question: Persistence therefore appears to have been the predominant '\n",
      " 'response in')\n",
      "\"label answer: plant fossil record for this warm interval in earth's history\"\n",
      "'BART answer:  plant fossil record'\n",
      "\n",
      "'question: what are the three adaptive features can be suggested'\n",
      "('label answer: first, many species had a much wider ecological tolerance than '\n",
      " 'is apparent from their presentday distributions, and thus they contain gene '\n",
      " 'variations that enable tolerance of much higher temperatures and water '\n",
      " 'stress. this is probably the case for many tropical species jaramillo et al. '\n",
      " '2010) whose ancestors evolved during the late cretaceous in much higher '\n",
      " 'temperatures and co2 levels. second and closely related, higher levels of '\n",
      " 'co2 induced an adaptive physiological response in the plants that enabled '\n",
      " 'their persistence. a combination of modeling and experiments')\n",
      "'BART answer:  at least three adaptive features can be suggested'\n",
      "\n",
      "('question: What is constructing fuel breaks around a vulnerable population of '\n",
      " 'a valued plant species to prevent extinction from climate-aggravated '\n",
      " 'wildfire? Exapmple?')\n",
      "('label answer: rescuing a highly valued and climate-vulnerable animal species '\n",
      " 'by captive propagation (e.g., california condor gymnogyps californianus '\n",
      " 'shaw]); prescribing methods otherwise socially undesired (e.g., '\n",
      " 'insecticides) to aggressively combat insect mortality that threatens '\n",
      " 'high-value resources (e.g., insectand pathogeninfected young bristlecone '\n",
      " 'pine pinus longaeva d.k. bailey] forests in the white mountains); requesting '\n",
      " 'more than otherwise allotted water rights to maintain a unique and '\n",
      " 'ecologically critical aquatic ecosystem (e.g., mono lake, california, '\n",
      " 'relative to water delivery to los angeles for human use); and aggressively '\n",
      " 'remov ing invasive species (box 19')\n",
      "'BART answer: adaptation'\n",
      "\n"
     ]
    }
   ],
   "source": [
    "for i in test_df.index[:10]:\n",
    "    pprint(f\"question: {test_df['question'][i]}\")\n",
    "    pprint(f\"label answer: {test_df['answer'][i]}\")\n",
    "    pprint(f\"BART answer: {test_df['bart_answer'][i]}\")\n",
    "    print()"
   ]
  },
  {
   "cell_type": "code",
   "execution_count": 8,
   "metadata": {},
   "outputs": [],
   "source": [
    "test_df.to_parquet('test_bart_qa_scored.parquet')"
   ]
  },
  {
   "cell_type": "code",
   "execution_count": 9,
   "metadata": {},
   "outputs": [
    {
     "name": "stdout",
     "output_type": "stream",
     "text": [
      "rouge scores:\n",
      "{'rouge1': np.float64(0.4341106284336489),\n",
      " 'rouge2': np.float64(0.3796218872329144),\n",
      " 'rougeL': np.float64(0.4321849585581291),\n",
      " 'rougeLsum': np.float64(0.4325789489633455)}\n",
      "\n",
      "average semantic similarity:\n",
      "tensor(0.5995)\n"
     ]
    }
   ],
   "source": [
    "utils.evaluate_abstractive(test_df, 'bart_answer',)"
   ]
  },
  {
   "cell_type": "code",
   "execution_count": null,
   "metadata": {},
   "outputs": [],
   "source": []
  }
 ],
 "metadata": {
  "kernelspec": {
   "display_name": "env-266",
   "language": "python",
   "name": "python3"
  },
  "language_info": {
   "codemirror_mode": {
    "name": "ipython",
    "version": 3
   },
   "file_extension": ".py",
   "mimetype": "text/x-python",
   "name": "python",
   "nbconvert_exporter": "python",
   "pygments_lexer": "ipython3",
   "version": "3.11.11"
  }
 },
 "nbformat": 4,
 "nbformat_minor": 2
}
